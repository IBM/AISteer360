{
 "cells": [
  {
   "cell_type": "markdown",
   "id": "4451525c",
   "metadata": {},
   "source": [
    "<img src=\"../images/deal.png\" alt=\"DeAL method\" width=\"1000\"/>\n",
    "\n",
    "\n",
    "(Image from Huang et al., 2024)\n",
    "\n",
    "## DeAL: Decoding-time Alignment for Large Language Models\n",
    "\n",
    "**Authors**: James Huang, Sailik Sengupta, Daniele Bonadiman, Yi-an Lai, Arshit Gupta, Nikolaos Pappas, Saab Mansour, Katrin Kirchhoff, Dan Roth\n",
    "\n",
    "* Paper: https://arxiv.org/pdf/2402.06147\n",
    "\n",
    "DeAL is a heuristic output steering method that uses an alignment or reward objective to guide model generation. It performs iterative generation of multiple beams, and at each step, selects the top-k partial beam outputs based on their alignment to the task objective, i.e., ranked by their scores using the reward function.\n",
    "\n",
    "In this demo, we show how DeAL can be used to steer the output of LLMs to align with a given task alignment function.\n",
    "\n"
   ]
  },
  {
   "cell_type": "markdown",
   "id": "2e0d2439",
   "metadata": {},
   "source": [
    "### Method Parameters\n",
    "\n",
    "| parameter        | type       | description                                                                                                                                                    |\n",
    "| ---------------- | ---------- | -------------------------------------------------------------------------------------------------------------------------------------------------------------- |\n",
    "| `lookahead`      | `int`      | How many tokens to generate in every partial beam                                                                                                              |\n",
    "| `init_beams`     | `int`      | Number of starting beams                                                                                                                                       |\n",
    "| `topk`           | `int`      | Number of top-scoring beams to select in each iteration                                                                                                        |\n",
    "| `max_iterations` | `int`      | Maximum number of iterations                                                                                                                                   |\n",
    "| `reward_func`    | `Callable` | Alignment or reward function. Takes inputs:<br>• `prompt: str`<br>• `candidates: list[str]`<br>• `params: dict`<br>Returns a list of scores for each candidate |"
   ]
  },
  {
   "cell_type": "markdown",
   "id": "e008b7b6",
   "metadata": {},
   "source": [
    "### Note:\n",
    "\n",
    "The following authentication steps may be necessary to access any gated models (even after being granted access by Hugging Face). Uncomment the following if you need to log in to the Hugging Face Hub:\n"
   ]
  },
  {
   "cell_type": "code",
   "execution_count": 1,
   "id": "ce672e7f",
   "metadata": {},
   "outputs": [],
   "source": [
    "# !pip install python-dotenv\n",
    "# from dotenv import load_dotenv\n",
    "# import os\n",
    "\n",
    "# load_dotenv()\n",
    "# token = os.getenv(\"HUGGINGFACE_TOKEN\")\n",
    "# from huggingface_hub import login\n",
    "# login(token=token)"
   ]
  },
  {
   "cell_type": "markdown",
   "id": "4886428a",
   "metadata": {},
   "source": [
    "## Example: Steering for keyword inclusion"
   ]
  },
  {
   "cell_type": "code",
   "execution_count": 2,
   "id": "7682dc1e",
   "metadata": {},
   "outputs": [
    {
     "name": "stderr",
     "output_type": "stream",
     "text": [
      "/dccstor/principled_ai/users/erikmiehling/AISteer360/.venv/lib/python3.11/site-packages/tqdm/auto.py:21: TqdmWarning: IProgress not found. Please update jupyter and ipywidgets. See https://ipywidgets.readthedocs.io/en/stable/user_install.html\n",
      "  from .autonotebook import tqdm as notebook_tqdm\n"
     ]
    }
   ],
   "source": [
    "from transformers import AutoModelForCausalLM, AutoTokenizer\n",
    "from aisteer360.algorithms.output_control.deal.control import DeAL\n",
    "from aisteer360.algorithms.core.steering_pipeline import SteeringPipeline\n",
    "import warnings\n",
    "\n",
    "warnings.filterwarnings('ignore', category=UserWarning)\n",
    "MODEL_NAME = \"Qwen/Qwen2.5-1.5B-Instruct\""
   ]
  },
  {
   "cell_type": "markdown",
   "id": "1779772f",
   "metadata": {},
   "source": [
    "Let us create a prompt that asks the model to generate some text that contains a specific set of words."
   ]
  },
  {
   "cell_type": "code",
   "execution_count": 3,
   "id": "edb3e314",
   "metadata": {},
   "outputs": [
    {
     "name": "stdout",
     "output_type": "stream",
     "text": [
      "Write ONE coherent sentence describing an everyday scenario using all of the following words: cat, couch, sun\n"
     ]
    }
   ],
   "source": [
    "prompt = \"Write ONE coherent sentence describing an everyday scenario using all of the following words: cat, couch, sun\"\n",
    "print(prompt)"
   ]
  },
  {
   "cell_type": "markdown",
   "id": "d11e4354",
   "metadata": {},
   "source": [
    "And here is the baseline model prediction."
   ]
  },
  {
   "cell_type": "code",
   "execution_count": 4,
   "id": "0d54b230",
   "metadata": {},
   "outputs": [
    {
     "name": "stderr",
     "output_type": "stream",
     "text": [
      "The following generation flags are not valid and may be ignored: ['temperature', 'top_p', 'top_k']. Set `TRANSFORMERS_VERBOSITY=info` for more details.\n"
     ]
    },
    {
     "name": "stdout",
     "output_type": "stream",
     "text": [
      "\n",
      "Response (baseline):\n",
      "\n",
      "As the warm sunlight streamed through the window onto my favorite plush couch, I lazily stretched and settled in for a peaceful nap with my beloved feline companion curled up beside me.\n"
     ]
    }
   ],
   "source": [
    "model = AutoModelForCausalLM.from_pretrained(MODEL_NAME, device_map=\"auto\")\n",
    "tokenizer = AutoTokenizer.from_pretrained(MODEL_NAME)\n",
    "chat = tokenizer.apply_chat_template(\n",
    "    [{\"role\": \"user\", \"content\": prompt}], \n",
    "    tokenize=False, \n",
    "    add_generation_prompt=True\n",
    ")\n",
    "inputs = tokenizer(chat, return_tensors=\"pt\").to(model.device)\n",
    "baseline_outputs = model.generate(\n",
    "    **inputs, \n",
    "    do_sample=False, \n",
    "    max_new_tokens=50,\n",
    "    pad_token_id=tokenizer.eos_token_id\n",
    ")\n",
    "\n",
    "print(\"\\nResponse (baseline):\\n\")\n",
    "print(tokenizer.decode(baseline_outputs[0][len(inputs['input_ids'][0]):], skip_special_tokens=True))"
   ]
  },
  {
   "cell_type": "markdown",
   "id": "3469b2db",
   "metadata": {},
   "source": [
    "Notice that the baseline prediction only has one of the three required words -- `couch`. It contains the words `sunlight` and `feline` which do not satisfy the given instruction."
   ]
  },
  {
   "cell_type": "markdown",
   "id": "a1c887c5",
   "metadata": {},
   "source": [
    "Let us try to steer the model's output using DeAL. First, we need to implement the reward or alignment function. Note that DeAL's reward functions need to take as input: \n",
    "\n",
    "| argument (type)   | description                                                                 |\n",
    "| ------------ | --------------------------------------------------------------------------- |\n",
    "| `prompt` (`str`)   |  The prompt string                                                           |\n",
    "| `candidates` (`list[str]`) |  List of partial beam candidates that need to be scored                      |\n",
    "| `params` (`dict`) |  Additional parameters that can be passed to DeAL using the `runtime_kwargs` |\n",
    "\n",
    "The reward function must return the scores for each of the candidates as a `list[float]`.\n",
    "\n",
    "For our example, let us define a very simple function that scores each candidate beam based on the number of required words present. Hopefully, this results in an output that contains all the required words.\n",
    "Also, note that the design of this function is entirely up to the user."
   ]
  },
  {
   "cell_type": "code",
   "execution_count": 5,
   "id": "504095fd",
   "metadata": {},
   "outputs": [],
   "source": [
    "import re\n",
    "def keyword_overlap_reward(prompt: str, candidates: list[str], params: dict) -> list[float]:\n",
    "    \"\"\"\n",
    "    Reward function for this example. Note the fixed input and output function signatures.\n",
    "    The function rewards beams that have the most number of key_terms present.\n",
    "    It also penalizes beams that contain more than one sentence\n",
    "    \"\"\"\n",
    "    terms = [t.lower() for t in params[\"key_terms\"]]\n",
    "    rewards = []\n",
    "    for text in candidates:\n",
    "        full_stops = text.count('.')\n",
    "        if full_stops > 1:\n",
    "            rewards.append(0)\n",
    "        else:\n",
    "            words = re.findall(r'\\b\\w+\\b', text.lower())\n",
    "            reward = sum(words.count(term) for term in terms)\n",
    "            rewards.append(reward)\n",
    "    return rewards"
   ]
  },
  {
   "cell_type": "markdown",
   "id": "3a5f9b7c",
   "metadata": {},
   "source": [
    "We now define the `DeAL` control and the `SteeringPipeline`. We will use `16` beams to start with, each with a lookahead of `20`.\n",
    "At each iteration, let us retain the top `5` beams and perform at most `8` such iterations.\n",
    "\n",
    "We also pass the reward function we defined above."
   ]
  },
  {
   "cell_type": "code",
   "execution_count": 6,
   "id": "a621a865",
   "metadata": {},
   "outputs": [],
   "source": [
    "deal = DeAL(\n",
    "    lookahead=20,\n",
    "    init_beams=16,\n",
    "    topk=5,\n",
    "    max_iterations=8,\n",
    "    reward_func=keyword_overlap_reward\n",
    ")\n",
    "\n",
    "deal_pipeline = SteeringPipeline(\n",
    "    model_name_or_path=MODEL_NAME,\n",
    "    controls=[deal],\n",
    "    device_map=\"auto\"\n",
    ")\n",
    "deal_pipeline.steer()"
   ]
  },
  {
   "cell_type": "markdown",
   "id": "85c9b3f4",
   "metadata": {},
   "source": [
    "Now let us see the model output when DeAL is used to steer it. Note that since our reward function requires the variable `key_terms` to be defined in the `params`, we provide this as part of the `runtime_kwargs`."
   ]
  },
  {
   "cell_type": "code",
   "execution_count": 7,
   "id": "e5b47aec",
   "metadata": {},
   "outputs": [
    {
     "name": "stdout",
     "output_type": "stream",
     "text": [
      "\n",
      "Response (DeAL):\n",
      "\n",
      "As the warm sun shone through the window, the fluffy cat curled up on the comfortable couch,\n"
     ]
    }
   ],
   "source": [
    "output = deal_pipeline.generate(\n",
    "    input_ids=inputs['input_ids'],\n",
    "    runtime_kwargs={\n",
    "        'reward_params': {'key_terms': [\"cat\", \"couch\", \"pet\"]}\n",
    "    },\n",
    "    max_new_tokens=50,\n",
    "    do_sample=False,\n",
    "    pad_token_id=tokenizer.eos_token_id\n",
    ")\n",
    "\n",
    "print(\"\\nResponse (DeAL):\\n\")\n",
    "print(tokenizer.decode(output[0], skip_special_tokens=True))"
   ]
  },
  {
   "cell_type": "markdown",
   "id": "91e608bb",
   "metadata": {},
   "source": [
    "We see that DeAL does steer the model's output to produce all 3 required words -- `cat`, `couch`, `sun`, by using the reward function."
   ]
  }
 ],
 "metadata": {
  "kernelspec": {
   "display_name": "Python 3 (ipykernel)",
   "language": "python",
   "name": "python3"
  }
 },
 "nbformat": 4,
 "nbformat_minor": 5
}
